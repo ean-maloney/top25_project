{
 "cells": [
  {
   "cell_type": "code",
   "execution_count": 1,
   "metadata": {},
   "outputs": [],
   "source": [
    "import pandas as pd \n",
    "from sklearn.model_selection import train_test_split\n",
    "from sklearn.preprocessing import StandardScaler\n",
    "from sklearn.preprocessing import OneHotEncoder\n",
    "from sklearn.linear_model import LinearRegression\n",
    "from sklearn.ensemble import RandomForestRegressor\n",
    "from sklearn.ensemble import AdaBoostRegressor as abr"
   ]
  },
  {
   "cell_type": "code",
   "execution_count": 2,
   "metadata": {},
   "outputs": [],
   "source": [
    "#Parameters\n",
    "file = \"../tables/2021AP.xlsx\"\n",
    "next_week = 8\n",
    "\n",
    "#Min and max highest ranks\n",
    "a = 26\n",
    "b = 51"
   ]
  },
  {
   "cell_type": "code",
   "execution_count": 3,
   "metadata": {},
   "outputs": [],
   "source": [
    "def run_regressions(top_rank):\n",
    "    df = pd.read_excel(file)\n",
    "    \n",
    "    #Drop footer\n",
    "    df.drop(index = (df.index.stop - 1), inplace = True)\n",
    "\n",
    "    #Drop null columns (teams with byes)\n",
    "    df.dropna(inplace = True)\n",
    "\n",
    "    #Set week\n",
    "    for index, row in df.iterrows():\n",
    "        if row['Week'] >= next_week:\n",
    "            df.drop(index = index, inplace = True)\n",
    "    \n",
    "    #Convert Result col to dummy numeric\n",
    "    for index, row in df.iterrows():\n",
    "        if row['Result'] == 'W':\n",
    "            df.at[index, 'Result'] = 1\n",
    "        else: \n",
    "            df.at[index, 'Result'] = 0      \n",
    "    \n",
    "    #Increase penalty for unranked\n",
    "    for index,row in df.iterrows():\n",
    "        if row['Next Week Rank'] == 26:\n",
    "            df.at[index, 'Next Week Rank'] = top_rank\n",
    "    \n",
    "    #Drop unnecessary cols\n",
    "    df = df.drop(columns = [\"Movement\", \"Team\"])\n",
    "    \n",
    "    #Convert all cols to num\n",
    "    for name, values in df.iteritems():\n",
    "        df[name] = pd.to_numeric(values)\n",
    "    \n",
    "    #Get features/target\n",
    "    X = df.drop(columns = ['Next Week Rank'])\n",
    "    y = df[\"Next Week Rank\"]\n",
    "    \n",
    "    #Split to train/test\n",
    "    X_train, X_test, y_train, y_test = train_test_split(X, y, random_state = 8)\n",
    "    \n",
    "    # Create a StandardScaler instances\n",
    "    scaler = StandardScaler()\n",
    "\n",
    "    # Fit the StandardScaler\n",
    "    X_scaler = scaler.fit(X_train)\n",
    "\n",
    "    # Scale the data\n",
    "    X_train_scaled = X_scaler.transform(X_train)\n",
    "    X_test_scaled = X_scaler.transform(X_test)\n",
    "    \n",
    "    #Multiple Linear Regression\n",
    "    lin_model = LinearRegression().fit(X_train, y_train)\n",
    "    mlr_score = lin_model.score(X_test, y_test)\n",
    "    \n",
    "    #Scaled Multiple Linear Regression\n",
    "    scaled_lin_model = LinearRegression().fit(X_train_scaled, y_train)\n",
    "    smlr_score = scaled_lin_model.score(X_test_scaled, y_test)\n",
    "    \n",
    "    #RF\n",
    "    rf_model = RandomForestRegressor(random_state = 8)\n",
    "    rf_model.fit(X_train, y_train)\n",
    "    rf_score = rf_model.score(X_test, y_test)\n",
    "    \n",
    "    #Scaled RF\n",
    "    scaled_rf_model = RandomForestRegressor(random_state = 8)\n",
    "    scaled_rf_model.fit(X_train_scaled, y_train)\n",
    "    srf_score = scaled_rf_model.score(X_test_scaled, y_test)\n",
    "    \n",
    "    #AdaBoost Regression\n",
    "    ab_model = abr(random_state = 8).fit(X_train, y_train)\n",
    "    ab_score = ab_model.score(X_test, y_test)\n",
    "    \n",
    "    #Scaled AdaBoost Regression\n",
    "    scaled_ab_model = abr(random_state = 8).fit(X_train_scaled, y_train)\n",
    "    sab_score = scaled_ab_model.score(X_test_scaled, y_test)\n",
    "    \n",
    "    #output = f'Week {next_week} Model Scores - Top Rank = {top_rank}\\nMLR: {mlr_score}\\nSMLR: {smlr_score}\\nRF: {rf_score}\\nSRF: {srf_score}\\nABR: {ab_score}\\nSABR: {sab_score}'\n",
    "    \n",
    "    return mlr_score, smlr_score, rf_score, srf_score, ab_score, sab_score"
   ]
  },
  {
   "cell_type": "code",
   "execution_count": 4,
   "metadata": {},
   "outputs": [],
   "source": [
    "scores_dict = {}\n",
    "for item in ['mlr', 'smlr', 'rf', 'srf', 'ab', 'sab']:\n",
    "    scores_dict[item] = []"
   ]
  },
  {
   "cell_type": "code",
   "execution_count": null,
   "metadata": {},
   "outputs": [],
   "source": [
    "for top_rank in range(a, b):\n",
    "    mlr_score, smlr_score, rf_score, srf_score, ab_score, sab_score = run_regressions(top_rank)\n",
    "    \n",
    "    scores_dict['mlr'].append(mlr_score)\n",
    "    scores_dict['smlr'].append(smlr_score)\n",
    "    scores_dict['rf'].append(rf_score)\n",
    "    scores_dict['srf'].append(srf_score)\n",
    "    scores_dict['ab'].append(ab_score)\n",
    "    scores_dict['sab'].append(sab_score)"
   ]
  },
  {
   "cell_type": "code",
   "execution_count": null,
   "metadata": {},
   "outputs": [],
   "source": [
    "data = pd.DataFrame()\n",
    "\n",
    "data['top_rank'] = range(a, b)\n",
    "\n",
    "for item in ['mlr', 'smlr', 'rf', 'srf', 'ab', 'sab']:\n",
    "    data[item] = scores_dict[item]"
   ]
  },
  {
   "cell_type": "code",
   "execution_count": null,
   "metadata": {
    "scrolled": true
   },
   "outputs": [],
   "source": [
    "import plotly.express as px\n",
    "\n",
    "fig = px.line(data, x='top_rank', y=['mlr', 'smlr', 'rf', 'srf', 'ab', 'sab'])\n",
    "fig.update_layout(title = 'R2 of Models with Varying Max Rank', xaxis_title = 'Top Rank', yaxis_title = 'R2', title_x = .5)\n",
    "fig.update_xaxes(dtick = 2)\n",
    "fig.show()"
   ]
  },
  {
   "cell_type": "code",
   "execution_count": null,
   "metadata": {
    "scrolled": true
   },
   "outputs": [],
   "source": [
    "data.describe()"
   ]
  },
  {
   "cell_type": "code",
   "execution_count": null,
   "metadata": {},
   "outputs": [],
   "source": [
    "dataT = data.set_index('top_rank').transpose().describe()"
   ]
  },
  {
   "cell_type": "code",
   "execution_count": null,
   "metadata": {},
   "outputs": [],
   "source": [
    "dataTT = dataT.transpose().reset_index()\n",
    "dataTT"
   ]
  },
  {
   "cell_type": "code",
   "execution_count": null,
   "metadata": {},
   "outputs": [],
   "source": [
    "fig = px.line(dataTT, x='top_rank', y=['mean', '50%'])\n",
    "fig.update_layout(title = 'Average R2 of Models with Varying Max Rank', xaxis_title = 'Top Rank', yaxis_title = 'R2', title_x = .5)\n",
    "fig.update_xaxes(dtick = 2)\n",
    "fig.show()"
   ]
  }
 ],
 "metadata": {
  "kernelspec": {
   "display_name": "PythonData",
   "language": "python",
   "name": "pythondata"
  },
  "language_info": {
   "codemirror_mode": {
    "name": "ipython",
    "version": 3
   },
   "file_extension": ".py",
   "mimetype": "text/x-python",
   "name": "python",
   "nbconvert_exporter": "python",
   "pygments_lexer": "ipython3",
   "version": "3.7.6"
  }
 },
 "nbformat": 4,
 "nbformat_minor": 4
}
